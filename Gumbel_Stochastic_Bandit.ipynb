{
  "nbformat": 4,
  "nbformat_minor": 0,
  "metadata": {
    "colab": {
      "provenance": [],
      "authorship_tag": "ABX9TyOcHkN3qteqcYhIDYTPGxZ0",
      "include_colab_link": true
    },
    "kernelspec": {
      "name": "python3",
      "display_name": "Python 3"
    },
    "language_info": {
      "name": "python"
    },
    "gpuClass": "standard",
    "accelerator": "GPU"
  },
  "cells": [
    {
      "cell_type": "markdown",
      "metadata": {
        "id": "view-in-github",
        "colab_type": "text"
      },
      "source": [
        "<a href=\"https://colab.research.google.com/github/scascino10/multi_armed_bandits/blob/main/Gumbel_Stochastic_Bandit.ipynb\" target=\"_parent\"><img src=\"https://colab.research.google.com/assets/colab-badge.svg\" alt=\"Open In Colab\"/></a>"
      ]
    },
    {
      "cell_type": "code",
      "source": [
        "import numpy as np\n",
        "import torch\n",
        "import torch.nn as nn\n",
        "import torch.optim as optim\n",
        "from torch.distributions.gumbel import Gumbel\n",
        "import math\n",
        "from collections import deque\n",
        "from tqdm import tqdm\n",
        "import matplotlib.pyplot as plt"
      ],
      "metadata": {
        "id": "837HagDU91GG"
      },
      "execution_count": 1,
      "outputs": []
    },
    {
      "cell_type": "code",
      "source": [
        "class BanditEnvironment:\n",
        "  def __init__(self, k, device=torch.device('cpu')):\n",
        "    self.Qs = torch.normal(0.0, 1.0, size=(k,), device=device)\n",
        "    self.Ns = torch.zeros(k, device=device)\n",
        "\n",
        "  def simulate(self, action_indices, n, increment_visits=True):\n",
        "    repeated_action_indices = action_indices.repeat(n, 1)\n",
        "    qs = torch.normal(self.Qs[repeated_action_indices], 1).mean(dim=0)\n",
        "    if increment_visits:\n",
        "      self.Ns[action_indices] += n\n",
        "    return qs"
      ],
      "metadata": {
        "id": "S9vguplXe6B7"
      },
      "execution_count": 2,
      "outputs": []
    },
    {
      "cell_type": "code",
      "source": [
        "class PolicyNetwork(nn.Module):\n",
        "  def __init__(self, input_size, output_size, hidden_size=32, device=torch.device('cpu')):\n",
        "    super().__init__()\n",
        "    self.relu = nn.ReLU()\n",
        "    self.l1 = nn.Linear(input_size, hidden_size)\n",
        "    self.l2 = nn.Linear(hidden_size, output_size)\n",
        "\n",
        "    self.to(device)\n",
        "\n",
        "  def forward(self, xs):\n",
        "    logits = self.relu(self.l1(xs))\n",
        "    logits = self.l2(logits)\n",
        "    return logits"
      ],
      "metadata": {
        "id": "mknGNLjM-0gg"
      },
      "execution_count": 3,
      "outputs": []
    },
    {
      "cell_type": "code",
      "source": [
        "class GumbelAgent:\n",
        "  def __init__(self, k, device=torch.device('cpu')):\n",
        "    self.k = k\n",
        "    self.device = device\n",
        "    # the input to the policy network is not relevant\n",
        "    # since the environment is static\n",
        "    state_size = 1\n",
        "    self.policy_network = PolicyNetwork(state_size, k, device=device)\n",
        "    self.state = torch.ones(1, dtype=torch.float32, device=device)\n",
        "    self.gumbel = Gumbel(0, 1)\n",
        "\n",
        "  def get_logits(self):\n",
        "    return self.policy_network(self.state)\n",
        "\n",
        "  def get_gumbel_sample(self):\n",
        "    return torch.tensor([self.gumbel.sample() for _ in range(self.k)], device=self.device)"
      ],
      "metadata": {
        "id": "f2wP5yWk-Ztj"
      },
      "execution_count": 4,
      "outputs": []
    },
    {
      "cell_type": "code",
      "source": [
        "class GumbelPolicyImprovement:\n",
        "  def __init__(self, env, agent, k, m, n, c_visit=50, c_scale=1):\n",
        "    self.env = env\n",
        "    self.agent = agent\n",
        "\n",
        "    self.m = m\n",
        "    self.n = n\n",
        "\n",
        "    self.sh_steps = int(math.log2(m))\n",
        "    self.sh_step_sims = self.n // self.sh_steps\n",
        "\n",
        "    self.c_visit = c_visit\n",
        "    self.c_scale = c_scale\n",
        "\n",
        "  def sigma(self, qs):\n",
        "    return (self.c_visit + torch.max(env.Ns)) * self.c_scale * qs\n",
        "\n",
        "  def sequential_halving(self):\n",
        "    logits = self.agent.get_logits()\n",
        "    gumbel_sample = self.agent.get_gumbel_sample()\n",
        "    _, action_indices = torch.sort(logits + gumbel_sample, descending=True)[:self.m]\n",
        "\n",
        "    for step in range(1, self.sh_steps + 1):\n",
        "      logits = self.agent.get_logits()\n",
        "      gumbel_sample = self.agent.get_gumbel_sample()\n",
        "      qs = self.env.simulate(action_indices, self.sh_step_sims)\n",
        "      scores = logits[action_indices] + gumbel_sample[action_indices] + self.sigma(qs)\n",
        "\n",
        "      _, relative_action_indices = torch.sort(scores, descending=True)\n",
        "      relative_action_indices = relative_action_indices[:self.m // (2**step)]\n",
        "      action_indices = action_indices[relative_action_indices]\n",
        "    \n",
        "    return action_indices"
      ],
      "metadata": {
        "id": "iq6Mb5BLe5hE"
      },
      "execution_count": 5,
      "outputs": []
    },
    {
      "cell_type": "code",
      "source": [
        "k, m, n = 60, 20, 20\n",
        "device = torch.device('cuda:0' if torch.cuda.is_available() else 'cpu')\n",
        "print(device)\n",
        "env = BanditEnvironment(k, device)\n",
        "agent = GumbelAgent(k, device)\n",
        "gumbel_policy_improvement = GumbelPolicyImprovement(env, agent, k, m, n) "
      ],
      "metadata": {
        "colab": {
          "base_uri": "https://localhost:8080/"
        },
        "id": "tUt2UTCi-8u4",
        "outputId": "f236ba4e-a05b-4198-ffb4-fe8cdb657a50"
      },
      "execution_count": 6,
      "outputs": [
        {
          "output_type": "stream",
          "name": "stdout",
          "text": [
            "cuda:0\n"
          ]
        }
      ]
    },
    {
      "cell_type": "code",
      "source": [
        "loss_fn = nn.CrossEntropyLoss()\n",
        "optimizer = optim.Adam(agent.policy_network.parameters(), lr=0.001, weight_decay=1e-4)"
      ],
      "metadata": {
        "id": "sN81-ExnFHP4"
      },
      "execution_count": 7,
      "outputs": []
    },
    {
      "cell_type": "code",
      "source": [
        "training_steps, batch_size = 1600, 32\n",
        "As = deque(maxlen=2*batch_size)\n",
        "losses, avg_rewards = [], [0.0]\n",
        "for _ in tqdm(range(training_steps)):\n",
        "  A = gumbel_policy_improvement.sequential_halving()\n",
        "  reward = env.simulate(A, n, increment_visits=False)\n",
        "  new_avg_reward = avg_rewards[-1] + (reward - avg_rewards[-1]) / len(avg_rewards)\n",
        "  avg_rewards.append(new_avg_reward.cpu().item())\n",
        "  As.append(A)\n",
        "  if len(As) >= batch_size:\n",
        "    optimizer.zero_grad()\n",
        "    inputs = gumbel_policy_improvement.agent.state.repeat(len(As), 1)\n",
        "    preds = gumbel_policy_improvement.agent.policy_network(inputs)\n",
        "    loss = loss_fn(preds, torch.tensor(As, device=preds.device))\n",
        "    losses.append(loss.item())\n",
        "    loss.backward()\n",
        "    optimizer.step()"
      ],
      "metadata": {
        "colab": {
          "base_uri": "https://localhost:8080/"
        },
        "id": "EW9KjQBaFZBA",
        "outputId": "64cccaad-d77e-4b20-f855-b91ec8a3353b"
      },
      "execution_count": 8,
      "outputs": [
        {
          "output_type": "stream",
          "name": "stderr",
          "text": [
            "100%|██████████| 1600/1600 [00:37<00:00, 42.55it/s]\n"
          ]
        }
      ]
    },
    {
      "cell_type": "code",
      "source": [
        "plt.plot(losses)\n",
        "plt.xlabel('training step')\n",
        "plt.ylabel('loss')\n",
        "plt.show()"
      ],
      "metadata": {
        "colab": {
          "base_uri": "https://localhost:8080/",
          "height": 449
        },
        "id": "tdR2ZgkCHU0o",
        "outputId": "36dc0996-23d4-47bd-857c-5595234ebc09"
      },
      "execution_count": 9,
      "outputs": [
        {
          "output_type": "display_data",
          "data": {
            "text/plain": [
              "<Figure size 640x480 with 1 Axes>"
            ],
            "image/png": "[encoded data removed]"
          },
          "metadata": {}
        }
      ]
    },
    {
      "cell_type": "code",
      "source": [
        "plt.plot(avg_rewards[1:])\n",
        "plt.xlabel('training step')\n",
        "plt.ylabel('avg reward')\n",
        "plt.show()"
      ],
      "metadata": {
        "colab": {
          "base_uri": "https://localhost:8080/",
          "height": 449
        },
        "id": "oQQPLpVVlTAk",
        "outputId": "81ad8474-6bea-47ab-e46e-a95a9bdb145a"
      },
      "execution_count": 10,
      "outputs": [
        {
          "output_type": "display_data",
          "data": {
            "text/plain": [
              "<Figure size 640x480 with 1 Axes>"
            ],
            "image/png": "[encoded data removed]"
          },
          "metadata": {}
        }
      ]
    },
    {
      "cell_type": "code",
      "source": [
        "torch.sort(agent.get_logits(), descending=True)[1][:5]"
      ],
      "metadata": {
        "colab": {
          "base_uri": "https://localhost:8080/"
        },
        "id": "HB-1a7vfJxhR",
        "outputId": "f250410e-0b65-4c77-b849-42f6d25f3081"
      },
      "execution_count": 11,
      "outputs": [
        {
          "output_type": "execute_result",
          "data": {
            "text/plain": [
              "tensor([43,  9, 35,  3, 20], device='cuda:0')"
            ]
          },
          "metadata": {},
          "execution_count": 11
        }
      ]
    },
    {
      "cell_type": "code",
      "source": [
        "torch.sort(env.Qs, descending=True)[1][:5]"
      ],
      "metadata": {
        "colab": {
          "base_uri": "https://localhost:8080/"
        },
        "id": "Fg2PXSogJc0g",
        "outputId": "1e472519-0a52-4c50-db0f-f44ef3af7f60"
      },
      "execution_count": 12,
      "outputs": [
        {
          "output_type": "execute_result",
          "data": {
            "text/plain": [
              "tensor([43,  9, 35, 20,  3], device='cuda:0')"
            ]
          },
          "metadata": {},
          "execution_count": 12
        }
      ]
    }
  ]
}